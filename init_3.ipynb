{
 "cells": [
  {
   "cell_type": "code",
   "execution_count": 1,
   "metadata": {},
   "outputs": [],
   "source": [
    "import pandas as pd\n",
    "import seaborn as sns\n",
    "import matplotlib.pyplot as plt\n",
    "\n",
    "import pandas as pd\n",
    "import numpy as np\n",
    "import seaborn as sns\n",
    "import matplotlib.pyplot as plt\n",
    "\n",
    "import statsmodels.api as sm\n",
    "from statsmodels.stats.outliers_influence import variance_inflation_factor as vif_\n",
    "\n",
    "from sklearn.preprocessing import OneHotEncoder\n",
    "from sklearn.linear_model import LogisticRegression, PassiveAggressiveClassifier, RidgeClassifier\n",
    "from sklearn.tree import DecisionTreeClassifier, plot_tree\n",
    "from sklearn.ensemble import RandomForestClassifier\n",
    "from sklearn.neighbors import KNeighborsClassifier, RadiusNeighborsClassifier\n",
    "from sklearn.ensemble import RandomForestClassifier, GradientBoostingClassifier, AdaBoostClassifier\n",
    "from sklearn.naive_bayes import GaussianNB\n",
    "from xgboost import XGBClassifier\n",
    "from catboost import CatBoostClassifier\n",
    "\n",
    "\n",
    "from statsmodels.stats.outliers_influence import variance_inflation_factor\n",
    "from sklearn.preprocessing import LabelEncoder\n",
    "from sklearn.preprocessing import RobustScaler, MinMaxScaler, StandardScaler\n",
    "from imblearn.over_sampling import SMOTE\n",
    "\n",
    "from sklearn.model_selection import train_test_split, GridSearchCV, RandomizedSearchCV\n",
    "\n",
    "from sklearn.metrics import classification_report, confusion_matrix, accuracy_score, recall_score, f1_score, plot_confusion_matrix, precision_score,roc_auc_score"
   ]
  },
  {
   "cell_type": "code",
   "execution_count": 2,
   "metadata": {},
   "outputs": [
    {
     "data": {
      "text/html": [
       "<div>\n",
       "<style scoped>\n",
       "    .dataframe tbody tr th:only-of-type {\n",
       "        vertical-align: middle;\n",
       "    }\n",
       "\n",
       "    .dataframe tbody tr th {\n",
       "        vertical-align: top;\n",
       "    }\n",
       "\n",
       "    .dataframe thead th {\n",
       "        text-align: right;\n",
       "    }\n",
       "</style>\n",
       "<table border=\"1\" class=\"dataframe\">\n",
       "  <thead>\n",
       "    <tr style=\"text-align: right;\">\n",
       "      <th></th>\n",
       "      <th>job_level</th>\n",
       "      <th>job_duration_in_current_job_level</th>\n",
       "      <th>person_level</th>\n",
       "      <th>job_duration_in_current_person_level</th>\n",
       "      <th>job_duration_in_current_branch</th>\n",
       "      <th>Employee_type</th>\n",
       "      <th>gender</th>\n",
       "      <th>age</th>\n",
       "      <th>marital_status_maried(Y/N)</th>\n",
       "      <th>number_of_dependences</th>\n",
       "      <th>...</th>\n",
       "      <th>year_graduated</th>\n",
       "      <th>job_duration_from_training</th>\n",
       "      <th>branch_rotation</th>\n",
       "      <th>job_rotation</th>\n",
       "      <th>assign_of_otherposition</th>\n",
       "      <th>annual leave</th>\n",
       "      <th>sick_leaves</th>\n",
       "      <th>Last_achievement_%</th>\n",
       "      <th>Achievement_above_100%_during3quartal</th>\n",
       "      <th>Best Performance</th>\n",
       "    </tr>\n",
       "  </thead>\n",
       "  <tbody>\n",
       "    <tr>\n",
       "      <th>11148</th>\n",
       "      <td>JG04</td>\n",
       "      <td>1.256981</td>\n",
       "      <td>PG03</td>\n",
       "      <td>1.256981</td>\n",
       "      <td>1.224745</td>\n",
       "      <td>RM_type_A</td>\n",
       "      <td>2</td>\n",
       "      <td>1986</td>\n",
       "      <td>Y</td>\n",
       "      <td>1</td>\n",
       "      <td>...</td>\n",
       "      <td>2016</td>\n",
       "      <td>4</td>\n",
       "      <td>3</td>\n",
       "      <td>3</td>\n",
       "      <td>0</td>\n",
       "      <td>4</td>\n",
       "      <td>1</td>\n",
       "      <td>50.87</td>\n",
       "      <td>0.0</td>\n",
       "      <td>0</td>\n",
       "    </tr>\n",
       "    <tr>\n",
       "      <th>11149</th>\n",
       "      <td>JG04</td>\n",
       "      <td>1.385641</td>\n",
       "      <td>PG03</td>\n",
       "      <td>1.385641</td>\n",
       "      <td>1.802776</td>\n",
       "      <td>RM_type_B</td>\n",
       "      <td>1</td>\n",
       "      <td>1988</td>\n",
       "      <td>Y</td>\n",
       "      <td>2</td>\n",
       "      <td>...</td>\n",
       "      <td>2015</td>\n",
       "      <td>3</td>\n",
       "      <td>1</td>\n",
       "      <td>2</td>\n",
       "      <td>0</td>\n",
       "      <td>6</td>\n",
       "      <td>0</td>\n",
       "      <td>79.91</td>\n",
       "      <td>0.0</td>\n",
       "      <td>0</td>\n",
       "    </tr>\n",
       "    <tr>\n",
       "      <th>11150</th>\n",
       "      <td>JG04</td>\n",
       "      <td>1.256981</td>\n",
       "      <td>PG03</td>\n",
       "      <td>1.256981</td>\n",
       "      <td>1.385641</td>\n",
       "      <td>RM_type_B</td>\n",
       "      <td>2</td>\n",
       "      <td>1991</td>\n",
       "      <td>Y</td>\n",
       "      <td>0</td>\n",
       "      <td>...</td>\n",
       "      <td>2017</td>\n",
       "      <td>2</td>\n",
       "      <td>1</td>\n",
       "      <td>2</td>\n",
       "      <td>0</td>\n",
       "      <td>4</td>\n",
       "      <td>0</td>\n",
       "      <td>78.38</td>\n",
       "      <td>0.0</td>\n",
       "      <td>0</td>\n",
       "    </tr>\n",
       "    <tr>\n",
       "      <th>11151</th>\n",
       "      <td>JG04</td>\n",
       "      <td>1.118034</td>\n",
       "      <td>PG03</td>\n",
       "      <td>1.118034</td>\n",
       "      <td>0.000000</td>\n",
       "      <td>RM_type_A</td>\n",
       "      <td>1</td>\n",
       "      <td>1987</td>\n",
       "      <td>Y</td>\n",
       "      <td>1</td>\n",
       "      <td>...</td>\n",
       "      <td>2012</td>\n",
       "      <td>5</td>\n",
       "      <td>5</td>\n",
       "      <td>4</td>\n",
       "      <td>0</td>\n",
       "      <td>4</td>\n",
       "      <td>1</td>\n",
       "      <td>85.94</td>\n",
       "      <td>1.0</td>\n",
       "      <td>0</td>\n",
       "    </tr>\n",
       "    <tr>\n",
       "      <th>11152</th>\n",
       "      <td>JG04</td>\n",
       "      <td>2.828427</td>\n",
       "      <td>PG04</td>\n",
       "      <td>2.121320</td>\n",
       "      <td>1.473092</td>\n",
       "      <td>RM_type_B</td>\n",
       "      <td>2</td>\n",
       "      <td>1980</td>\n",
       "      <td>Y</td>\n",
       "      <td>2</td>\n",
       "      <td>...</td>\n",
       "      <td>2009</td>\n",
       "      <td>14</td>\n",
       "      <td>5</td>\n",
       "      <td>7</td>\n",
       "      <td>0</td>\n",
       "      <td>2</td>\n",
       "      <td>0</td>\n",
       "      <td>79.99</td>\n",
       "      <td>1.0</td>\n",
       "      <td>0</td>\n",
       "    </tr>\n",
       "  </tbody>\n",
       "</table>\n",
       "<p>5 rows × 22 columns</p>\n",
       "</div>"
      ],
      "text/plain": [
       "      job_level  job_duration_in_current_job_level person_level  \\\n",
       "11148      JG04                           1.256981         PG03   \n",
       "11149      JG04                           1.385641         PG03   \n",
       "11150      JG04                           1.256981         PG03   \n",
       "11151      JG04                           1.118034         PG03   \n",
       "11152      JG04                           2.828427         PG04   \n",
       "\n",
       "       job_duration_in_current_person_level  job_duration_in_current_branch  \\\n",
       "11148                              1.256981                        1.224745   \n",
       "11149                              1.385641                        1.802776   \n",
       "11150                              1.256981                        1.385641   \n",
       "11151                              1.118034                        0.000000   \n",
       "11152                              2.121320                        1.473092   \n",
       "\n",
       "      Employee_type  gender   age marital_status_maried(Y/N)  \\\n",
       "11148     RM_type_A       2  1986                          Y   \n",
       "11149     RM_type_B       1  1988                          Y   \n",
       "11150     RM_type_B       2  1991                          Y   \n",
       "11151     RM_type_A       1  1987                          Y   \n",
       "11152     RM_type_B       2  1980                          Y   \n",
       "\n",
       "       number_of_dependences  ... year_graduated  job_duration_from_training  \\\n",
       "11148                      1  ...           2016                           4   \n",
       "11149                      2  ...           2015                           3   \n",
       "11150                      0  ...           2017                           2   \n",
       "11151                      1  ...           2012                           5   \n",
       "11152                      2  ...           2009                          14   \n",
       "\n",
       "       branch_rotation  job_rotation  assign_of_otherposition  annual leave  \\\n",
       "11148                3             3                        0             4   \n",
       "11149                1             2                        0             6   \n",
       "11150                1             2                        0             4   \n",
       "11151                5             4                        0             4   \n",
       "11152                5             7                        0             2   \n",
       "\n",
       "       sick_leaves  Last_achievement_%  Achievement_above_100%_during3quartal  \\\n",
       "11148            1               50.87                                    0.0   \n",
       "11149            0               79.91                                    0.0   \n",
       "11150            0               78.38                                    0.0   \n",
       "11151            1               85.94                                    1.0   \n",
       "11152            0               79.99                                    1.0   \n",
       "\n",
       "       Best Performance  \n",
       "11148                 0  \n",
       "11149                 0  \n",
       "11150                 0  \n",
       "11151                 0  \n",
       "11152                 0  \n",
       "\n",
       "[5 rows x 22 columns]"
      ]
     },
     "execution_count": 2,
     "metadata": {},
     "output_type": "execute_result"
    }
   ],
   "source": [
    "df_train = pd.read_csv(\"/Users/ndaru/Documents/rai_projects/bri_hackathon/[2]/train.csv\")\n",
    "df_test = pd.read_csv(\"/Users/ndaru/Documents/rai_projects/bri_hackathon/[2]/test.csv\")\n",
    "df_train.tail(5)"
   ]
  },
  {
   "cell_type": "code",
   "execution_count": 3,
   "metadata": {},
   "outputs": [
    {
     "name": "stdout",
     "output_type": "stream",
     "text": [
      "<class 'pandas.core.frame.DataFrame'>\n",
      "RangeIndex: 11153 entries, 0 to 11152\n",
      "Data columns (total 22 columns):\n",
      " #   Column                                 Non-Null Count  Dtype  \n",
      "---  ------                                 --------------  -----  \n",
      " 0   job_level                              11153 non-null  object \n",
      " 1   job_duration_in_current_job_level      11153 non-null  float64\n",
      " 2   person_level                           11153 non-null  object \n",
      " 3   job_duration_in_current_person_level   11153 non-null  float64\n",
      " 4   job_duration_in_current_branch         11153 non-null  float64\n",
      " 5   Employee_type                          11153 non-null  object \n",
      " 6   gender                                 11153 non-null  int64  \n",
      " 7   age                                    11153 non-null  int64  \n",
      " 8   marital_status_maried(Y/N)             11153 non-null  object \n",
      " 9   number_of_dependences                  11153 non-null  int64  \n",
      " 10  Education_level                        11153 non-null  object \n",
      " 11  GPA                                    11153 non-null  float64\n",
      " 12  year_graduated                         11153 non-null  int64  \n",
      " 13  job_duration_from_training             11153 non-null  int64  \n",
      " 14  branch_rotation                        11153 non-null  int64  \n",
      " 15  job_rotation                           11153 non-null  int64  \n",
      " 16  assign_of_otherposition                11153 non-null  int64  \n",
      " 17  annual leave                           11153 non-null  int64  \n",
      " 18  sick_leaves                            11153 non-null  int64  \n",
      " 19  Last_achievement_%                     11152 non-null  float64\n",
      " 20  Achievement_above_100%_during3quartal  11152 non-null  float64\n",
      " 21  Best Performance                       11153 non-null  int64  \n",
      "dtypes: float64(6), int64(11), object(5)\n",
      "memory usage: 1.9+ MB\n"
     ]
    }
   ],
   "source": [
    "df_train.info()"
   ]
  },
  {
   "cell_type": "code",
   "execution_count": 4,
   "metadata": {},
   "outputs": [
    {
     "data": {
      "text/plain": [
       "<matplotlib.axes._subplots.AxesSubplot at 0x7fb33fa7f910>"
      ]
     },
     "execution_count": 4,
     "metadata": {},
     "output_type": "execute_result"
    },
    {
     "data": {
      "image/png": "[encoded data removed]",
      "text/plain": [
       "<Figure size 432x288 with 1 Axes>"
      ]
     },
     "metadata": {
      "needs_background": "light"
     },
     "output_type": "display_data"
    }
   ],
   "source": [
    "sns.countplot(data=df_train, x='Best Performance')"
   ]
  },
  {
   "cell_type": "code",
   "execution_count": 5,
   "metadata": {},
   "outputs": [],
   "source": [
    "df_train.drop_duplicates(keep=False,inplace=True)"
   ]
  },
  {
   "cell_type": "code",
   "execution_count": 6,
   "metadata": {},
   "outputs": [
    {
     "data": {
      "text/html": [
       "<div>\n",
       "<style scoped>\n",
       "    .dataframe tbody tr th:only-of-type {\n",
       "        vertical-align: middle;\n",
       "    }\n",
       "\n",
       "    .dataframe tbody tr th {\n",
       "        vertical-align: top;\n",
       "    }\n",
       "\n",
       "    .dataframe thead th {\n",
       "        text-align: right;\n",
       "    }\n",
       "</style>\n",
       "<table border=\"1\" class=\"dataframe\">\n",
       "  <thead>\n",
       "    <tr style=\"text-align: right;\">\n",
       "      <th></th>\n",
       "      <th>feature</th>\n",
       "      <th>missing_value</th>\n",
       "      <th>percentage</th>\n",
       "    </tr>\n",
       "  </thead>\n",
       "  <tbody>\n",
       "    <tr>\n",
       "      <th>0</th>\n",
       "      <td>Achievement_above_100%_during3quartal</td>\n",
       "      <td>1</td>\n",
       "      <td>0.01</td>\n",
       "    </tr>\n",
       "    <tr>\n",
       "      <th>1</th>\n",
       "      <td>Last_achievement_%</td>\n",
       "      <td>1</td>\n",
       "      <td>0.01</td>\n",
       "    </tr>\n",
       "  </tbody>\n",
       "</table>\n",
       "</div>"
      ],
      "text/plain": [
       "                                 feature  missing_value  percentage\n",
       "0  Achievement_above_100%_during3quartal              1        0.01\n",
       "1                     Last_achievement_%              1        0.01"
      ]
     },
     "execution_count": 6,
     "metadata": {},
     "output_type": "execute_result"
    }
   ],
   "source": [
    "data_missing_value = df_train.isnull().sum().reset_index()\n",
    "data_missing_value.columns = ['feature','missing_value']\n",
    "data_missing_value['percentage'] = round((data_missing_value['missing_value']/len(df_train))*100,2)\n",
    "data_missing_value = data_missing_value.sort_values('percentage', ascending=False).reset_index(drop=True)\n",
    "data_missing_value = data_missing_value[data_missing_value['percentage']>0]\n",
    "data_missing_value"
   ]
  },
  {
   "cell_type": "code",
   "execution_count": 7,
   "metadata": {},
   "outputs": [
    {
     "data": {
      "text/plain": [
       "<matplotlib.axes._subplots.AxesSubplot at 0x7fb340c72fd0>"
      ]
     },
     "execution_count": 7,
     "metadata": {},
     "output_type": "execute_result"
    },
    {
     "data": {
      "image/png": "[encoded data removed]",
      "text/plain": [
       "<Figure size 432x288 with 1 Axes>"
      ]
     },
     "metadata": {
      "needs_background": "light"
     },
     "output_type": "display_data"
    }
   ],
   "source": [
    "sns.countplot(data=df_train,x='Last_achievement_%')"
   ]
  },
  {
   "cell_type": "code",
   "execution_count": 8,
   "metadata": {},
   "outputs": [
    {
     "data": {
      "text/plain": [
       "<matplotlib.axes._subplots.AxesSubplot at 0x7fb325279250>"
      ]
     },
     "execution_count": 8,
     "metadata": {},
     "output_type": "execute_result"
    },
    {
     "data": {
      "image/png": "[encoded data removed]",
      "text/plain": [
       "<Figure size 432x288 with 1 Axes>"
      ]
     },
     "metadata": {
      "needs_background": "light"
     },
     "output_type": "display_data"
    }
   ],
   "source": [
    "sns.countplot(data=df_train,x='Achievement_above_100%_during3quartal')"
   ]
  },
  {
   "cell_type": "code",
   "execution_count": 9,
   "metadata": {},
   "outputs": [],
   "source": [
    "df_train['Last_achievement_%'].fillna(df_train['Last_achievement_%'].mean(), inplace=True)\n",
    "df_train['Achievement_above_100%_during3quartal'].fillna(0, inplace=True)"
   ]
  },
  {
   "cell_type": "code",
   "execution_count": 10,
   "metadata": {},
   "outputs": [
    {
     "data": {
      "text/html": [
       "<div>\n",
       "<style scoped>\n",
       "    .dataframe tbody tr th:only-of-type {\n",
       "        vertical-align: middle;\n",
       "    }\n",
       "\n",
       "    .dataframe tbody tr th {\n",
       "        vertical-align: top;\n",
       "    }\n",
       "\n",
       "    .dataframe thead th {\n",
       "        text-align: right;\n",
       "    }\n",
       "</style>\n",
       "<table border=\"1\" class=\"dataframe\">\n",
       "  <thead>\n",
       "    <tr style=\"text-align: right;\">\n",
       "      <th></th>\n",
       "      <th>feature</th>\n",
       "      <th>missing_value</th>\n",
       "      <th>percentage</th>\n",
       "    </tr>\n",
       "  </thead>\n",
       "  <tbody>\n",
       "  </tbody>\n",
       "</table>\n",
       "</div>"
      ],
      "text/plain": [
       "Empty DataFrame\n",
       "Columns: [feature, missing_value, percentage]\n",
       "Index: []"
      ]
     },
     "execution_count": 10,
     "metadata": {},
     "output_type": "execute_result"
    }
   ],
   "source": [
    "data_missing_value = df_train.isnull().sum().reset_index()\n",
    "data_missing_value.columns = ['feature','missing_value']\n",
    "data_missing_value['percentage'] = round((data_missing_value['missing_value']/len(df_train))*100,2)\n",
    "data_missing_value = data_missing_value.sort_values('percentage', ascending=False).reset_index(drop=True)\n",
    "data_missing_value = data_missing_value[data_missing_value['percentage']>0]\n",
    "data_missing_value"
   ]
  },
  {
   "cell_type": "code",
   "execution_count": 11,
   "metadata": {},
   "outputs": [
    {
     "data": {
      "text/plain": [
       "['job_level',\n",
       " 'person_level',\n",
       " 'Employee_type',\n",
       " 'marital_status_maried(Y/N)',\n",
       " 'Education_level']"
      ]
     },
     "metadata": {},
     "output_type": "display_data"
    },
    {
     "name": "stdout",
     "output_type": "stream",
     "text": [
      "\n"
     ]
    },
    {
     "data": {
      "text/plain": [
       "(11153, 5)"
      ]
     },
     "metadata": {},
     "output_type": "display_data"
    },
    {
     "name": "stdout",
     "output_type": "stream",
     "text": [
      "\n"
     ]
    },
    {
     "data": {
      "text/html": [
       "<div>\n",
       "<style scoped>\n",
       "    .dataframe tbody tr th:only-of-type {\n",
       "        vertical-align: middle;\n",
       "    }\n",
       "\n",
       "    .dataframe tbody tr th {\n",
       "        vertical-align: top;\n",
       "    }\n",
       "\n",
       "    .dataframe thead th {\n",
       "        text-align: right;\n",
       "    }\n",
       "</style>\n",
       "<table border=\"1\" class=\"dataframe\">\n",
       "  <thead>\n",
       "    <tr style=\"text-align: right;\">\n",
       "      <th></th>\n",
       "      <th>job_level</th>\n",
       "      <th>person_level</th>\n",
       "      <th>Employee_type</th>\n",
       "      <th>marital_status_maried(Y/N)</th>\n",
       "      <th>Education_level</th>\n",
       "    </tr>\n",
       "  </thead>\n",
       "  <tbody>\n",
       "    <tr>\n",
       "      <th>0</th>\n",
       "      <td>JG04</td>\n",
       "      <td>PG03</td>\n",
       "      <td>RM_type_A</td>\n",
       "      <td>Y</td>\n",
       "      <td>level_0</td>\n",
       "    </tr>\n",
       "    <tr>\n",
       "      <th>1</th>\n",
       "      <td>JG04</td>\n",
       "      <td>PG03</td>\n",
       "      <td>RM_type_A</td>\n",
       "      <td>Y</td>\n",
       "      <td>level_1</td>\n",
       "    </tr>\n",
       "    <tr>\n",
       "      <th>2</th>\n",
       "      <td>JG05</td>\n",
       "      <td>PG06</td>\n",
       "      <td>RM_type_C</td>\n",
       "      <td>Y</td>\n",
       "      <td>level_1</td>\n",
       "    </tr>\n",
       "  </tbody>\n",
       "</table>\n",
       "</div>"
      ],
      "text/plain": [
       "  job_level person_level Employee_type marital_status_maried(Y/N)  \\\n",
       "0      JG04         PG03     RM_type_A                          Y   \n",
       "1      JG04         PG03     RM_type_A                          Y   \n",
       "2      JG05         PG06     RM_type_C                          Y   \n",
       "\n",
       "  Education_level  \n",
       "0         level_0  \n",
       "1         level_1  \n",
       "2         level_1  "
      ]
     },
     "execution_count": 11,
     "metadata": {},
     "output_type": "execute_result"
    }
   ],
   "source": [
    "display(list(df_train.select_dtypes(include=['object']).columns))\n",
    "print()\n",
    "(f\"Data shape : {display(df_train.select_dtypes(include=['object']).shape)}\")\n",
    "print()\n",
    "obj_type_df = df_train.select_dtypes(include=['object'])\n",
    "obj_type_df.head(3)"
   ]
  },
  {
   "cell_type": "code",
   "execution_count": 12,
   "metadata": {},
   "outputs": [
    {
     "name": "stdout",
     "output_type": "stream",
     "text": [
      "job_level\n",
      "Jumlah total data unique : 3\n",
      "['JG04' 'JG05' 'JG03']\n",
      "\n",
      "person_level\n",
      "Jumlah total data unique : 8\n",
      "['PG03' 'PG06' 'PG05' 'PG04' 'PG07' 'PG02' 'PG01' 'PG08']\n",
      "\n",
      "Employee_type\n",
      "Jumlah total data unique : 3\n",
      "['RM_type_A' 'RM_type_C' 'RM_type_B']\n",
      "\n",
      "marital_status_maried(Y/N)\n",
      "Jumlah total data unique : 2\n",
      "['Y' 'N']\n",
      "\n",
      "Education_level\n",
      "Jumlah total data unique : 6\n",
      "['level_0' 'level_1' 'level_2' 'level_3' 'level_4' 'level_5']\n",
      "\n"
     ]
    }
   ],
   "source": [
    "for col in obj_type_df: \n",
    "    print(col)\n",
    "    print(f'Jumlah total data unique :',len(obj_type_df[col].unique()))\n",
    "    print(obj_type_df[col].unique())\n",
    "    print()"
   ]
  },
  {
   "cell_type": "code",
   "execution_count": 13,
   "metadata": {},
   "outputs": [],
   "source": [
    "df_train[\"marital_status_maried(Y/N)\"] = df_train[\"marital_status_maried(Y/N)\"].apply(lambda x: 1 if x == 'Y' else 0)"
   ]
  },
  {
   "cell_type": "code",
   "execution_count": 14,
   "metadata": {},
   "outputs": [
    {
     "name": "stdout",
     "output_type": "stream",
     "text": [
      "<class 'pandas.core.frame.DataFrame'>\n",
      "Int64Index: 11153 entries, 0 to 11152\n",
      "Data columns (total 22 columns):\n",
      " #   Column                                 Non-Null Count  Dtype  \n",
      "---  ------                                 --------------  -----  \n",
      " 0   job_level                              11153 non-null  object \n",
      " 1   job_duration_in_current_job_level      11153 non-null  float64\n",
      " 2   person_level                           11153 non-null  object \n",
      " 3   job_duration_in_current_person_level   11153 non-null  float64\n",
      " 4   job_duration_in_current_branch         11153 non-null  float64\n",
      " 5   Employee_type                          11153 non-null  object \n",
      " 6   gender                                 11153 non-null  int64  \n",
      " 7   age                                    11153 non-null  int64  \n",
      " 8   marital_status_maried(Y/N)             11153 non-null  int64  \n",
      " 9   number_of_dependences                  11153 non-null  int64  \n",
      " 10  Education_level                        11153 non-null  object \n",
      " 11  GPA                                    11153 non-null  float64\n",
      " 12  year_graduated                         11153 non-null  int64  \n",
      " 13  job_duration_from_training             11153 non-null  int64  \n",
      " 14  branch_rotation                        11153 non-null  int64  \n",
      " 15  job_rotation                           11153 non-null  int64  \n",
      " 16  assign_of_otherposition                11153 non-null  int64  \n",
      " 17  annual leave                           11153 non-null  int64  \n",
      " 18  sick_leaves                            11153 non-null  int64  \n",
      " 19  Last_achievement_%                     11153 non-null  float64\n",
      " 20  Achievement_above_100%_during3quartal  11153 non-null  float64\n",
      " 21  Best Performance                       11153 non-null  int64  \n",
      "dtypes: float64(6), int64(12), object(4)\n",
      "memory usage: 2.3+ MB\n"
     ]
    }
   ],
   "source": [
    "df_train.info()"
   ]
  },
  {
   "cell_type": "code",
   "execution_count": 15,
   "metadata": {},
   "outputs": [
    {
     "data": {
      "text/plain": [
       "'Education_level : [0 1 2 3 4 5]'"
      ]
     },
     "metadata": {},
     "output_type": "display_data"
    },
    {
     "name": "stdout",
     "output_type": "stream",
     "text": [
      "\n"
     ]
    },
    {
     "data": {
      "text/plain": [
       "'person_level : [3 6 5 4 7 2 1 8]'"
      ]
     },
     "metadata": {},
     "output_type": "display_data"
    },
    {
     "name": "stdout",
     "output_type": "stream",
     "text": [
      "\n"
     ]
    },
    {
     "data": {
      "text/plain": [
       "'job_level : [4 5 3]'"
      ]
     },
     "metadata": {},
     "output_type": "display_data"
    }
   ],
   "source": [
    "df_train['Education_level'] = df_train['Education_level'].apply(lambda x: x.replace(\"level_\", \"\")).astype('int32')\n",
    "display(f\"Education_level : {df_train['Education_level'].unique()}\")\n",
    "print()\n",
    "df_train['person_level'] = df_train['person_level'].apply(lambda x: x.replace(\"PG0\", \"\")).astype('int32')\n",
    "display(f\"person_level : {df_train['person_level'].unique()}\")\n",
    "print()\n",
    "df_train['job_level'] = df_train['job_level'].apply(lambda x: x.replace(\"JG0\", \"\")).astype('int32')\n",
    "display(f\"job_level : {df_train['job_level'].unique()}\")"
   ]
  },
  {
   "cell_type": "code",
   "execution_count": 16,
   "metadata": {},
   "outputs": [
    {
     "data": {
      "text/plain": [
       "'Employee_type : [1 3 2]'"
      ]
     },
     "metadata": {},
     "output_type": "display_data"
    }
   ],
   "source": [
    "df_train['Employee_type'] = df_train['Employee_type'].apply(lambda x: 1 if x=='RM_type_A' else (2 if x=='RM_type_B' else 3))\n",
    "display(f\"Employee_type : {df_train['Employee_type'].unique()}\")"
   ]
  },
  {
   "cell_type": "markdown",
   "metadata": {},
   "source": [
    "## __df-test__"
   ]
  },
  {
   "cell_type": "code",
   "execution_count": 17,
   "metadata": {},
   "outputs": [
    {
     "name": "stdout",
     "output_type": "stream",
     "text": [
      "<class 'pandas.core.frame.DataFrame'>\n",
      "RangeIndex: 6000 entries, 0 to 5999\n",
      "Data columns (total 21 columns):\n",
      " #   Column                                 Non-Null Count  Dtype  \n",
      "---  ------                                 --------------  -----  \n",
      " 0   job_level                              6000 non-null   object \n",
      " 1   job_duration_in_current_job_level      6000 non-null   float64\n",
      " 2   person_level                           6000 non-null   object \n",
      " 3   job_duration_in_current_person_level   6000 non-null   float64\n",
      " 4   job_duration_in_current_branch         6000 non-null   float64\n",
      " 5   Employee_type                          6000 non-null   object \n",
      " 6   gender                                 6000 non-null   int64  \n",
      " 7   age                                    6000 non-null   int64  \n",
      " 8   marital_status_maried(Y/N)             6000 non-null   object \n",
      " 9   number_of_dependences                  6000 non-null   int64  \n",
      " 10  Education_level                        6000 non-null   object \n",
      " 11  GPA                                    6000 non-null   float64\n",
      " 12  year_graduated                         6000 non-null   int64  \n",
      " 13  job_duration_from_training             6000 non-null   int64  \n",
      " 14  branch_rotation                        6000 non-null   int64  \n",
      " 15  job_rotation                           6000 non-null   int64  \n",
      " 16  assign_of_otherposition                6000 non-null   int64  \n",
      " 17  annual leave                           6000 non-null   int64  \n",
      " 18  sick_leaves                            6000 non-null   int64  \n",
      " 19  Last_achievement_%                     6000 non-null   float64\n",
      " 20  Achievement_above_100%_during3quartal  6000 non-null   float64\n",
      "dtypes: float64(6), int64(10), object(5)\n",
      "memory usage: 984.5+ KB\n"
     ]
    }
   ],
   "source": [
    "df_test.info()"
   ]
  },
  {
   "cell_type": "code",
   "execution_count": 18,
   "metadata": {},
   "outputs": [
    {
     "data": {
      "text/plain": [
       "['job_level',\n",
       " 'person_level',\n",
       " 'Employee_type',\n",
       " 'marital_status_maried(Y/N)',\n",
       " 'Education_level']"
      ]
     },
     "metadata": {},
     "output_type": "display_data"
    },
    {
     "name": "stdout",
     "output_type": "stream",
     "text": [
      "\n"
     ]
    },
    {
     "data": {
      "text/plain": [
       "(6000, 5)"
      ]
     },
     "metadata": {},
     "output_type": "display_data"
    },
    {
     "name": "stdout",
     "output_type": "stream",
     "text": [
      "\n"
     ]
    },
    {
     "data": {
      "text/html": [
       "<div>\n",
       "<style scoped>\n",
       "    .dataframe tbody tr th:only-of-type {\n",
       "        vertical-align: middle;\n",
       "    }\n",
       "\n",
       "    .dataframe tbody tr th {\n",
       "        vertical-align: top;\n",
       "    }\n",
       "\n",
       "    .dataframe thead th {\n",
       "        text-align: right;\n",
       "    }\n",
       "</style>\n",
       "<table border=\"1\" class=\"dataframe\">\n",
       "  <thead>\n",
       "    <tr style=\"text-align: right;\">\n",
       "      <th></th>\n",
       "      <th>job_level</th>\n",
       "      <th>person_level</th>\n",
       "      <th>Employee_type</th>\n",
       "      <th>marital_status_maried(Y/N)</th>\n",
       "      <th>Education_level</th>\n",
       "    </tr>\n",
       "  </thead>\n",
       "  <tbody>\n",
       "    <tr>\n",
       "      <th>0</th>\n",
       "      <td>JG04</td>\n",
       "      <td>PG03</td>\n",
       "      <td>RM_type_A</td>\n",
       "      <td>N</td>\n",
       "      <td>level_3</td>\n",
       "    </tr>\n",
       "    <tr>\n",
       "      <th>1</th>\n",
       "      <td>JG04</td>\n",
       "      <td>PG03</td>\n",
       "      <td>RM_type_B</td>\n",
       "      <td>N</td>\n",
       "      <td>level_4</td>\n",
       "    </tr>\n",
       "    <tr>\n",
       "      <th>2</th>\n",
       "      <td>JG04</td>\n",
       "      <td>PG03</td>\n",
       "      <td>RM_type_A</td>\n",
       "      <td>Y</td>\n",
       "      <td>level_4</td>\n",
       "    </tr>\n",
       "  </tbody>\n",
       "</table>\n",
       "</div>"
      ],
      "text/plain": [
       "  job_level person_level Employee_type marital_status_maried(Y/N)  \\\n",
       "0      JG04         PG03     RM_type_A                          N   \n",
       "1      JG04         PG03     RM_type_B                          N   \n",
       "2      JG04         PG03     RM_type_A                          Y   \n",
       "\n",
       "  Education_level  \n",
       "0         level_3  \n",
       "1         level_4  \n",
       "2         level_4  "
      ]
     },
     "execution_count": 18,
     "metadata": {},
     "output_type": "execute_result"
    }
   ],
   "source": [
    "display(list(df_test.select_dtypes(include=['object']).columns))\n",
    "print()\n",
    "(f\"Data shape : {display(df_test.select_dtypes(include=['object']).shape)}\")\n",
    "print()\n",
    "obj_type_dftest = df_test.select_dtypes(include=['object'])\n",
    "obj_type_dftest.head(3)"
   ]
  },
  {
   "cell_type": "code",
   "execution_count": 19,
   "metadata": {},
   "outputs": [
    {
     "data": {
      "text/plain": [
       "'marital_status_maried(Y/N) : [0 1]'"
      ]
     },
     "metadata": {},
     "output_type": "display_data"
    },
    {
     "name": "stdout",
     "output_type": "stream",
     "text": [
      "\n"
     ]
    },
    {
     "data": {
      "text/plain": [
       "'Education_level : [3 4 1 5 0 2]'"
      ]
     },
     "metadata": {},
     "output_type": "display_data"
    },
    {
     "name": "stdout",
     "output_type": "stream",
     "text": [
      "\n"
     ]
    },
    {
     "data": {
      "text/plain": [
       "'person_level : [3 4 6 7 5 1 2]'"
      ]
     },
     "metadata": {},
     "output_type": "display_data"
    },
    {
     "name": "stdout",
     "output_type": "stream",
     "text": [
      "\n"
     ]
    },
    {
     "data": {
      "text/plain": [
       "'job_level : [4 5 3 6]'"
      ]
     },
     "metadata": {},
     "output_type": "display_data"
    }
   ],
   "source": [
    "df_test[\"marital_status_maried(Y/N)\"] = df_test[\"marital_status_maried(Y/N)\"].apply(lambda x: 1 if x == 'Y' else 0)\n",
    "display(f\"marital_status_maried(Y/N) : {df_test['marital_status_maried(Y/N)'].unique()}\")\n",
    "print()\n",
    "df_test['Education_level'] = df_test['Education_level'].apply(lambda x: x.replace(\"level_\", \"\")).astype('int32')\n",
    "display(f\"Education_level : {df_test['Education_level'].unique()}\")\n",
    "print()\n",
    "df_test['person_level'] = df_test['person_level'].apply(lambda x: x.replace(\"PG0\", \"\")).astype('int32')\n",
    "display(f\"person_level : {df_test['person_level'].unique()}\")\n",
    "print()\n",
    "df_test['job_level'] = df_test['job_level'].apply(lambda x: x.replace(\"JG0\", \"\")).astype('int32')\n",
    "display(f\"job_level : {df_test['job_level'].unique()}\")"
   ]
  },
  {
   "cell_type": "code",
   "execution_count": 20,
   "metadata": {},
   "outputs": [
    {
     "data": {
      "text/plain": [
       "'Employee_type : [1 2 3]'"
      ]
     },
     "metadata": {},
     "output_type": "display_data"
    }
   ],
   "source": [
    "df_test['Employee_type'] = df_test['Employee_type'].apply(lambda x: 1 if x=='RM_type_A' else (2 if x=='RM_type_B' else 3))\n",
    "display(f\"Employee_type : {df_test['Employee_type'].unique()}\")"
   ]
  },
  {
   "cell_type": "code",
   "execution_count": 21,
   "metadata": {},
   "outputs": [
    {
     "data": {
      "text/plain": [
       "<matplotlib.axes._subplots.AxesSubplot at 0x7fb3256be410>"
      ]
     },
     "execution_count": 21,
     "metadata": {},
     "output_type": "execute_result"
    },
    {
     "data": {
      "image/png": "[encoded data removed]",
      "text/plain": [
       "<Figure size 720x432 with 2 Axes>"
      ]
     },
     "metadata": {
      "needs_background": "light"
     },
     "output_type": "display_data"
    }
   ],
   "source": [
    "\n",
    "plt.figure(figsize=(10,6))\n",
    "sns.heatmap(df_train.corr())"
   ]
  },
  {
   "cell_type": "code",
   "execution_count": 22,
   "metadata": {},
   "outputs": [],
   "source": [
    "# X = df_train.drop(columns=['Best Performance'])\n",
    "y = df_train[['Best Performance']]\n",
    "\n",
    "X = df_train['Last_achievement_%']\n",
    "\n",
    "\n",
    "X_train, X_test, y_train, y_test = train_test_split(X, y, test_size=0.2, stratify=y, random_state=2021)"
   ]
  },
  {
   "cell_type": "code",
   "execution_count": 23,
   "metadata": {},
   "outputs": [
    {
     "ename": "AttributeError",
     "evalue": "'Series' object has no attribute 'columns'",
     "output_type": "error",
     "traceback": [
      "\u001b[0;31m---------------------------------------------------------------------------\u001b[0m",
      "\u001b[0;31mAttributeError\u001b[0m                            Traceback (most recent call last)",
      "\u001b[0;32m<ipython-input-23-2625f76b8a6d>\u001b[0m in \u001b[0;36m<module>\u001b[0;34m\u001b[0m\n\u001b[0;32m----> 1\u001b[0;31m \u001b[0mX_train\u001b[0m\u001b[0;34m.\u001b[0m\u001b[0mcolumns\u001b[0m\u001b[0;34m\u001b[0m\u001b[0;34m\u001b[0m\u001b[0m\n\u001b[0m",
      "\u001b[0;32m~/opt/anaconda3/envs/python37/lib/python3.7/site-packages/pandas/core/generic.py\u001b[0m in \u001b[0;36m__getattr__\u001b[0;34m(self, name)\u001b[0m\n\u001b[1;32m   5137\u001b[0m             \u001b[0;32mif\u001b[0m \u001b[0mself\u001b[0m\u001b[0;34m.\u001b[0m\u001b[0m_info_axis\u001b[0m\u001b[0;34m.\u001b[0m\u001b[0m_can_hold_identifiers_and_holds_name\u001b[0m\u001b[0;34m(\u001b[0m\u001b[0mname\u001b[0m\u001b[0;34m)\u001b[0m\u001b[0;34m:\u001b[0m\u001b[0;34m\u001b[0m\u001b[0;34m\u001b[0m\u001b[0m\n\u001b[1;32m   5138\u001b[0m                 \u001b[0;32mreturn\u001b[0m \u001b[0mself\u001b[0m\u001b[0;34m[\u001b[0m\u001b[0mname\u001b[0m\u001b[0;34m]\u001b[0m\u001b[0;34m\u001b[0m\u001b[0;34m\u001b[0m\u001b[0m\n\u001b[0;32m-> 5139\u001b[0;31m             \u001b[0;32mreturn\u001b[0m \u001b[0mobject\u001b[0m\u001b[0;34m.\u001b[0m\u001b[0m__getattribute__\u001b[0m\u001b[0;34m(\u001b[0m\u001b[0mself\u001b[0m\u001b[0;34m,\u001b[0m \u001b[0mname\u001b[0m\u001b[0;34m)\u001b[0m\u001b[0;34m\u001b[0m\u001b[0;34m\u001b[0m\u001b[0m\n\u001b[0m\u001b[1;32m   5140\u001b[0m \u001b[0;34m\u001b[0m\u001b[0m\n\u001b[1;32m   5141\u001b[0m     \u001b[0;32mdef\u001b[0m \u001b[0m__setattr__\u001b[0m\u001b[0;34m(\u001b[0m\u001b[0mself\u001b[0m\u001b[0;34m,\u001b[0m \u001b[0mname\u001b[0m\u001b[0;34m:\u001b[0m \u001b[0mstr\u001b[0m\u001b[0;34m,\u001b[0m \u001b[0mvalue\u001b[0m\u001b[0;34m)\u001b[0m \u001b[0;34m->\u001b[0m \u001b[0;32mNone\u001b[0m\u001b[0;34m:\u001b[0m\u001b[0;34m\u001b[0m\u001b[0;34m\u001b[0m\u001b[0m\n",
      "\u001b[0;31mAttributeError\u001b[0m: 'Series' object has no attribute 'columns'"
     ]
    }
   ],
   "source": [
    "X_train.columns"
   ]
  },
  {
   "cell_type": "code",
   "execution_count": null,
   "metadata": {},
   "outputs": [],
   "source": [
    "y_train.value_counts(normalize=True)"
   ]
  },
  {
   "cell_type": "code",
   "execution_count": null,
   "metadata": {},
   "outputs": [],
   "source": [
    "y_test.value_counts(normalize=True)"
   ]
  },
  {
   "cell_type": "code",
   "execution_count": null,
   "metadata": {},
   "outputs": [],
   "source": [
    "k = range(1,26)\n",
    "testing_auc = []\n",
    "training_auc = []\n",
    "score = 0\n",
    "\n",
    "for i in k:\n",
    "    dtc_ = DecisionTreeClassifier(criterion='entropy', max_depth = i, random_state=2021)\n",
    "    dtc_.fit(X_train, y_train)\n",
    "    \n",
    "    y_predict_train = dtc_.predict(X_train)\n",
    "    training_auc.append(roc_auc_score(y_train, y_predict_train))\n",
    "    \n",
    "    y_predict_test = dtc_.predict(X_test)\n",
    "    testing_auc.append(roc_auc_score(y_test, y_predict_test))\n",
    "    \n",
    "    acc_score = roc_auc_score(y_test, y_predict_test)\n",
    "    \n",
    "    if score < acc_score :\n",
    "        score = acc_score\n",
    "        best_k = i"
   ]
  },
  {
   "cell_type": "code",
   "execution_count": null,
   "metadata": {},
   "outputs": [],
   "source": [
    "plt.figure(figsize=(10,7))\n",
    "sns.lineplot(k, testing_auc, markers=True)\n",
    "sns.lineplot(k, training_auc, markers=True)\n",
    "plt.legend(['testing_auc','training_auc'])"
   ]
  },
  {
   "cell_type": "code",
   "execution_count": null,
   "metadata": {},
   "outputs": [],
   "source": [
    "print('Best c :', best_k)\n",
    "print('Best score :', score)"
   ]
  },
  {
   "cell_type": "code",
   "execution_count": null,
   "metadata": {},
   "outputs": [],
   "source": [
    "k = range(1,26)\n",
    "l = [50, 100, 150]\n",
    "testing_auc = []\n",
    "training_auc = []\n",
    "score = 0\n",
    "\n",
    "for i in k:\n",
    "    for j in l:\n",
    "        rf_ = RandomForestClassifier(criterion='entropy', max_depth = i, n_estimators=j, random_state=2021)\n",
    "        rf_.fit(X_train, y_train)\n",
    "\n",
    "        y_predict_train = rf_.predict(X_train)\n",
    "        training_auc.append(roc_auc_score(y_train, y_predict_train))\n",
    "\n",
    "        y_predict_test = rf_.predict(X_test)\n",
    "        testing_auc.append(roc_auc_score(y_test, y_predict_test))\n",
    "\n",
    "        acc_score = roc_auc_score(y_test, y_predict_test)\n",
    "\n",
    "        if score < acc_score :\n",
    "            score = acc_score\n",
    "            best_k, best_l = i, j"
   ]
  },
  {
   "cell_type": "code",
   "execution_count": null,
   "metadata": {},
   "outputs": [],
   "source": [
    "print('Best k :', best_k)\n",
    "print('Best l :', best_l)\n",
    "print('Best score :', score)"
   ]
  },
  {
   "cell_type": "code",
   "execution_count": null,
   "metadata": {},
   "outputs": [],
   "source": [
    "# k = range(1,26)\n",
    "l = [50, 100, 150, 200, 250]\n",
    "testing_auc = []\n",
    "training_auc = []\n",
    "score = 0\n",
    "\n",
    "# for i in k:\n",
    "for j in l:\n",
    "    rf_ = RandomForestClassifier(criterion='entropy', max_depth = 24, n_estimators=j, random_state=2021)\n",
    "    rf_.fit(X_train, y_train)\n",
    "\n",
    "    y_predict_train = rf_.predict(X_train)\n",
    "    training_auc.append(roc_auc_score(y_train, y_predict_train))\n",
    "\n",
    "    y_predict_test = rf_.predict(X_test)\n",
    "    testing_auc.append(roc_auc_score(y_test, y_predict_test))\n",
    "\n",
    "    acc_score = roc_auc_score(y_test, y_predict_test)\n",
    "\n",
    "    if score < acc_score :\n",
    "        score = acc_score\n",
    "        best_k = j"
   ]
  },
  {
   "cell_type": "code",
   "execution_count": null,
   "metadata": {},
   "outputs": [],
   "source": [
    "print('Best l :', best_l)\n",
    "print('Best score :', score)"
   ]
  },
  {
   "cell_type": "code",
   "execution_count": null,
   "metadata": {},
   "outputs": [],
   "source": [
    "plt.figure(figsize=(10,7))\n",
    "sns.lineplot(l, testing_auc, markers=True)\n",
    "sns.lineplot(l, training_auc, markers=True)\n",
    "plt.legend(['testing_auc','training_auc'])"
   ]
  },
  {
   "cell_type": "code",
   "execution_count": null,
   "metadata": {},
   "outputs": [],
   "source": [
    "classifiers = [ LogisticRegression(max_iter=400),\n",
    "                DecisionTreeClassifier(),\n",
    "                RandomForestClassifier(),\n",
    "                XGBClassifier(),\n",
    "                AdaBoostClassifier(),\n",
    "                GradientBoostingClassifier(),\n",
    "                PassiveAggressiveClassifier(),\n",
    "                RidgeClassifier(),\n",
    "#                 CatBoostClassifier(),\n",
    "                GaussianNB()]"
   ]
  },
  {
   "cell_type": "code",
   "execution_count": null,
   "metadata": {},
   "outputs": [],
   "source": [
    "log_cols=[\"Classifier\",\"roc_auc_score\"]\n",
    "log = pd.DataFrame(columns=log_cols)\n",
    "\n",
    "for clf in classifiers:\n",
    "    clf.fit(X_train, y_train)\n",
    "    name = clf.__class__.__name__\n",
    "    print()\n",
    "    train_predictions = clf.predict(X_test)\n",
    "    AUC_ROC_SCORE = roc_auc_score(y_test, train_predictions)\n",
    "    print(f\"{name} : \\tAUC_ROC_SCORE : {AUC_ROC_SCORE}\")\n",
    "    \n",
    "#     log_entry = pd.DataFrame([[name, AUC_ROC_SCORE]], columns=log_cols)\n",
    "#     log = log.append(log_entry)"
   ]
  },
  {
   "cell_type": "code",
   "execution_count": null,
   "metadata": {},
   "outputs": [],
   "source": [
    "model = classifiers[1]\n",
    "importance = model.feature_importances_\n",
    "\n",
    "for i,v in enumerate(importance):\n",
    "    print('Feature: %0d, Score: %.5f' % (i,v))\n",
    "\n",
    "\n",
    "plt.bar([x for x in range(len(importance))], importance)\n",
    "plt.show()"
   ]
  },
  {
   "cell_type": "code",
   "execution_count": null,
   "metadata": {},
   "outputs": [],
   "source": [
    "classifiers[0].coef_"
   ]
  },
  {
   "cell_type": "code",
   "execution_count": null,
   "metadata": {},
   "outputs": [],
   "source": []
  }
 ],
 "metadata": {
  "kernelspec": {
   "display_name": "Python 3",
   "language": "python",
   "name": "python3"
  },
  "language_info": {
   "codemirror_mode": {
    "name": "ipython",
    "version": 3
   },
   "file_extension": ".py",
   "mimetype": "text/x-python",
   "name": "python",
   "nbconvert_exporter": "python",
   "pygments_lexer": "ipython3",
   "version": "3.7.9"
  }
 },
 "nbformat": 4,
 "nbformat_minor": 4
}
